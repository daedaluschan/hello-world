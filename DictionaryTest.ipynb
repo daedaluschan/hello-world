{
 "cells": [
  {
   "cell_type": "code",
   "execution_count": 15,
   "metadata": {
    "collapsed": false
   },
   "outputs": [
    {
     "name": "stdout",
     "output_type": "stream",
     "text": [
      "Jinny\n",
      "奶粉\n",
      "299\n",
      "True\n"
     ]
    }
   ],
   "source": [
    "entry = dict()\n",
    "entry['category'] = 'Jinny'\n",
    "entry['item'] = '奶粉'\n",
    "entry['amount'] = 299\n",
    "entry['regular'] = bool(1)\n",
    "entry\n",
    "\n",
    "for k, v in entry.iteritems():\n",
    "    print(entry[k])\n"
   ]
  },
  {
   "cell_type": "code",
   "execution_count": 21,
   "metadata": {
    "collapsed": false
   },
   "outputs": [
    {
     "data": {
      "text/plain": [
       "['Date', 'Category', 'Item', 'Amount', 'Regular', 'Remark']"
      ]
     },
     "execution_count": 21,
     "metadata": {},
     "output_type": "execute_result"
    }
   ],
   "source": [
    "columns = ['Date', 'Category', 'Item', 'Amount', 'Regular', 'Remark']\n",
    "columns"
   ]
  },
  {
   "cell_type": "code",
   "execution_count": 22,
   "metadata": {
    "collapsed": true
   },
   "outputs": [],
   "source": [
    "from datetime import date\n",
    "import pandas as pd"
   ]
  },
  {
   "cell_type": "code",
   "execution_count": 54,
   "metadata": {
    "collapsed": false
   },
   "outputs": [
    {
     "data": {
      "text/html": [
       "<div>\n",
       "<table border=\"1\" class=\"dataframe\">\n",
       "  <thead>\n",
       "    <tr style=\"text-align: right;\">\n",
       "      <th></th>\n",
       "      <th>Date</th>\n",
       "      <th>Category</th>\n",
       "      <th>Item</th>\n",
       "      <th>Amount</th>\n",
       "      <th>Regular</th>\n",
       "      <th>Remark</th>\n",
       "    </tr>\n",
       "  </thead>\n",
       "  <tbody>\n",
       "    <tr>\n",
       "      <th>0</th>\n",
       "      <td>2015-07-14</td>\n",
       "      <td>Domestic</td>\n",
       "      <td>rubbish bin</td>\n",
       "      <td>255.0</td>\n",
       "      <td>False</td>\n",
       "      <td>友誠</td>\n",
       "    </tr>\n",
       "    <tr>\n",
       "      <th>1</th>\n",
       "      <td>2015-07-14</td>\n",
       "      <td>Jinny</td>\n",
       "      <td>奶粉</td>\n",
       "      <td>299.0</td>\n",
       "      <td>True</td>\n",
       "      <td>Manning</td>\n",
       "    </tr>\n",
       "    <tr>\n",
       "      <th>2</th>\n",
       "      <td>2015-07-15</td>\n",
       "      <td>Meal</td>\n",
       "      <td>Lunch</td>\n",
       "      <td>46.0</td>\n",
       "      <td>True</td>\n",
       "      <td>順景</td>\n",
       "    </tr>\n",
       "    <tr>\n",
       "      <th>3</th>\n",
       "      <td>2015-07-15</td>\n",
       "      <td>Transport</td>\n",
       "      <td>MTR</td>\n",
       "      <td>26.5</td>\n",
       "      <td>True</td>\n",
       "      <td></td>\n",
       "    </tr>\n",
       "  </tbody>\n",
       "</table>\n",
       "</div>"
      ],
      "text/plain": [
       "         Date   Category         Item  Amount Regular   Remark\n",
       "0  2015-07-14   Domestic  rubbish bin   255.0   False       友誠\n",
       "1  2015-07-14      Jinny           奶粉   299.0    True  Manning\n",
       "2  2015-07-15       Meal        Lunch    46.0    True       順景\n",
       "3  2015-07-15  Transport          MTR    26.5    True         "
      ]
     },
     "execution_count": 54,
     "metadata": {},
     "output_type": "execute_result"
    }
   ],
   "source": [
    "records = []\n",
    "records.append({'Date': date(2015,7,14), 'Category': 'Domestic', 'Item': 'rubbish bin', 'Amount': 255, 'Regular': bool(0), 'Remark': '友誠'})\n",
    "records.append({'Date': date(2015,7,14), 'Category': 'Jinny', 'Item': '奶粉', 'Amount': 299, 'Regular': bool(1), 'Remark': 'Manning'})\n",
    "records.append({'Date': date(2015,7,15), 'Category': 'Meal', 'Item': 'Lunch', 'Amount': 46, 'Regular': bool(1), 'Remark': '順景'})\n",
    "records.append({'Date': date(2015,7,15), 'Category': 'Transport', 'Item': 'MTR', 'Amount': 26.5, 'Regular': bool(1), 'Remark': ''})\n",
    "\n",
    "dictList = pd.DataFrame(data=records, columns=columns)\n",
    "\n",
    "dictList"
   ]
  },
  {
   "cell_type": "code",
   "execution_count": 49,
   "metadata": {
    "collapsed": false
   },
   "outputs": [
    {
     "data": {
      "text/html": [
       "<div>\n",
       "<table border=\"1\" class=\"dataframe\">\n",
       "  <thead>\n",
       "    <tr style=\"text-align: right;\">\n",
       "      <th></th>\n",
       "      <th>Date</th>\n",
       "      <th>Category</th>\n",
       "      <th>Item</th>\n",
       "      <th>Amount</th>\n",
       "      <th>Regular</th>\n",
       "      <th>Remark</th>\n",
       "    </tr>\n",
       "  </thead>\n",
       "  <tbody>\n",
       "    <tr>\n",
       "      <th>0</th>\n",
       "      <td>2015-07-13</td>\n",
       "      <td>Domestic</td>\n",
       "      <td>雜貨</td>\n",
       "      <td>255.0</td>\n",
       "      <td>True</td>\n",
       "      <td>友誠</td>\n",
       "    </tr>\n",
       "    <tr>\n",
       "      <th>1</th>\n",
       "      <td>2015-07-13</td>\n",
       "      <td>Jinny</td>\n",
       "      <td>奶粉</td>\n",
       "      <td>299.0</td>\n",
       "      <td>True</td>\n",
       "      <td>Manning</td>\n",
       "    </tr>\n",
       "    <tr>\n",
       "      <th>2</th>\n",
       "      <td>2015-07-14</td>\n",
       "      <td>Cook</td>\n",
       "      <td>Bread</td>\n",
       "      <td>13.5</td>\n",
       "      <td>True</td>\n",
       "      <td>ParkNShop</td>\n",
       "    </tr>\n",
       "    <tr>\n",
       "      <th>3</th>\n",
       "      <td>2015-07-15</td>\n",
       "      <td>Jinny</td>\n",
       "      <td>Clothes</td>\n",
       "      <td>539.3</td>\n",
       "      <td>False</td>\n",
       "      <td></td>\n",
       "    </tr>\n",
       "    <tr>\n",
       "      <th>4</th>\n",
       "      <td>2015-07-17</td>\n",
       "      <td>Meal</td>\n",
       "      <td>Dinner</td>\n",
       "      <td>195.0</td>\n",
       "      <td>True</td>\n",
       "      <td>KFC</td>\n",
       "    </tr>\n",
       "  </tbody>\n",
       "</table>\n",
       "</div>"
      ],
      "text/plain": [
       "         Date  Category     Item  Amount Regular     Remark\n",
       "0  2015-07-13  Domestic       雜貨   255.0    True         友誠\n",
       "1  2015-07-13     Jinny       奶粉   299.0    True    Manning\n",
       "2  2015-07-14      Cook    Bread    13.5    True  ParkNShop\n",
       "3  2015-07-15     Jinny  Clothes   539.3   False           \n",
       "4  2015-07-17      Meal   Dinner   195.0    True        KFC"
      ]
     },
     "execution_count": 49,
     "metadata": {},
     "output_type": "execute_result"
    }
   ],
   "source": [
    "dateList = [date(2015,7,13), date(2015,7,13), date(2015,7,14), date(2015,7,15), date(2015,7,17)]\n",
    "categoryList = ['Domestic', 'Jinny', 'Cook', 'Jinny', 'Meal']\n",
    "itemList = ['雜貨', '奶粉', 'Bread', 'Clothes', 'Dinner']\n",
    "amountList = [255, 299, 13.5, 539.3, 195]\n",
    "regularList = [bool(1), bool(1), bool(1), bool(0), bool(1)]\n",
    "remarkList = ['友誠', 'Manning', 'ParkNShop', '', 'KFC']\n",
    "\n",
    "maps = {'Date': dateList, 'Category': categoryList, 'Item': itemList, 'Amount': amountList, 'Regular': regularList, 'Remark': remarkList}\n",
    "\n",
    "df = pd.DataFrame(data=maps, columns=columns)\n",
    "\n",
    "df[:10]"
   ]
  }
 ],
 "metadata": {
  "kernelspec": {
   "display_name": "Python 2",
   "language": "python",
   "name": "python2"
  },
  "language_info": {
   "codemirror_mode": {
    "name": "ipython",
    "version": 2
   },
   "file_extension": ".py",
   "mimetype": "text/x-python",
   "name": "python",
   "nbconvert_exporter": "python",
   "pygments_lexer": "ipython2",
   "version": "2.7.10"
  }
 },
 "nbformat": 4,
 "nbformat_minor": 0
}
