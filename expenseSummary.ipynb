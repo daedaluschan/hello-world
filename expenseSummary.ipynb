{
 "cells": [
  {
   "cell_type": "code",
   "execution_count": 41,
   "metadata": {
    "collapsed": true
   },
   "outputs": [],
   "source": [
    "import pandas as pd\n",
    "import numpy as np\n",
    "import matplotlib.pyplot as plt\n",
    "import string\n",
    "import datetime\n",
    "\n",
    "%matplotlib inline"
   ]
  },
  {
   "cell_type": "code",
   "execution_count": 46,
   "metadata": {
    "collapsed": false
   },
   "outputs": [
    {
     "data": {
      "text/html": [
       "<div>\n",
       "<table border=\"1\" class=\"dataframe\">\n",
       "  <thead>\n",
       "    <tr style=\"text-align: right;\">\n",
       "      <th></th>\n",
       "      <th>Date</th>\n",
       "      <th>Category</th>\n",
       "      <th>Item</th>\n",
       "      <th>Amount</th>\n",
       "      <th>Regular</th>\n",
       "      <th>Remark</th>\n",
       "      <th>mth</th>\n",
       "    </tr>\n",
       "  </thead>\n",
       "  <tbody>\n",
       "    <tr>\n",
       "      <th>0</th>\n",
       "      <td>2015-07-14</td>\n",
       "      <td>Domestic</td>\n",
       "      <td>rubbish bin</td>\n",
       "      <td>255.0</td>\n",
       "      <td>N</td>\n",
       "      <td>友誠</td>\n",
       "      <td>2015-07</td>\n",
       "    </tr>\n",
       "    <tr>\n",
       "      <th>1</th>\n",
       "      <td>2015-07-25</td>\n",
       "      <td>Domestic</td>\n",
       "      <td>厨紙</td>\n",
       "      <td>34.9</td>\n",
       "      <td>Y</td>\n",
       "      <td>NaN</td>\n",
       "      <td>2015-07</td>\n",
       "    </tr>\n",
       "    <tr>\n",
       "      <th>2</th>\n",
       "      <td>2015-07-25</td>\n",
       "      <td>Cook</td>\n",
       "      <td>茄汁</td>\n",
       "      <td>18.9</td>\n",
       "      <td>Y</td>\n",
       "      <td>NaN</td>\n",
       "      <td>2015-07</td>\n",
       "    </tr>\n",
       "    <tr>\n",
       "      <th>3</th>\n",
       "      <td>2015-07-25</td>\n",
       "      <td>Cook</td>\n",
       "      <td>生抽</td>\n",
       "      <td>10.9</td>\n",
       "      <td>Y</td>\n",
       "      <td>NaN</td>\n",
       "      <td>2015-07</td>\n",
       "    </tr>\n",
       "    <tr>\n",
       "      <th>4</th>\n",
       "      <td>2015-07-25</td>\n",
       "      <td>Domestic</td>\n",
       "      <td>即棄餐具</td>\n",
       "      <td>19.8</td>\n",
       "      <td>N</td>\n",
       "      <td>NaN</td>\n",
       "      <td>2015-07</td>\n",
       "    </tr>\n",
       "  </tbody>\n",
       "</table>\n",
       "</div>"
      ],
      "text/plain": [
       "        Date  Category         Item  Amount Regular Remark      mth\n",
       "0 2015-07-14  Domestic  rubbish bin   255.0       N     友誠  2015-07\n",
       "1 2015-07-25  Domestic           厨紙    34.9       Y    NaN  2015-07\n",
       "2 2015-07-25      Cook           茄汁    18.9       Y    NaN  2015-07\n",
       "3 2015-07-25      Cook           生抽    10.9       Y    NaN  2015-07\n",
       "4 2015-07-25  Domestic         即棄餐具    19.8       N    NaN  2015-07"
      ]
     },
     "execution_count": 46,
     "metadata": {},
     "output_type": "execute_result"
    }
   ],
   "source": [
    "expense = pd.read_csv('expense_txt.csv', \n",
    "                      sep='|', \n",
    "                      converters = {'Amount': lambda x : float(string.replace(string.replace(x, '$', ''),',',''))}, \n",
    "                      parse_dates=['Date'], \n",
    "                      date_parser= lambda y : datetime.datetime.strptime(y, '%Y-%m-%d'))\n",
    "\n",
    "\n",
    "expense.rename(columns={'Regular ?' : 'Regular'}, inplace=True)\n",
    "expense['mth'] = expense['Date'].apply(lambda x : x.year.__str__() + '-' + x.month.__str__().zfill(2))\n",
    "\n",
    "expense[:5]"
   ]
  },
  {
   "cell_type": "code",
   "execution_count": 47,
   "metadata": {
    "collapsed": false
   },
   "outputs": [
    {
     "name": "stdout",
     "output_type": "stream",
     "text": [
      "<class 'pandas.core.frame.DataFrame'>\n",
      "Int64Index: 1127 entries, 0 to 1126\n",
      "Data columns (total 7 columns):\n",
      "Date        1127 non-null datetime64[ns]\n",
      "Category    1127 non-null object\n",
      "Item        1127 non-null object\n",
      "Amount      1127 non-null float64\n",
      "Regular     1126 non-null object\n",
      "Remark      879 non-null object\n",
      "mth         1127 non-null object\n",
      "dtypes: datetime64[ns](1), float64(1), object(5)\n",
      "memory usage: 48.4+ KB\n"
     ]
    }
   ],
   "source": [
    "expense.info()"
   ]
  },
  {
   "cell_type": "code",
   "execution_count": 48,
   "metadata": {
    "collapsed": false
   },
   "outputs": [
    {
     "data": {
      "text/html": [
       "<div>\n",
       "<table border=\"1\" class=\"dataframe\">\n",
       "  <thead>\n",
       "    <tr style=\"text-align: right;\">\n",
       "      <th></th>\n",
       "      <th>Amount</th>\n",
       "    </tr>\n",
       "  </thead>\n",
       "  <tbody>\n",
       "    <tr>\n",
       "      <th>count</th>\n",
       "      <td>1127.000000</td>\n",
       "    </tr>\n",
       "    <tr>\n",
       "      <th>mean</th>\n",
       "      <td>381.167285</td>\n",
       "    </tr>\n",
       "    <tr>\n",
       "      <th>std</th>\n",
       "      <td>1563.120253</td>\n",
       "    </tr>\n",
       "    <tr>\n",
       "      <th>min</th>\n",
       "      <td>2.000000</td>\n",
       "    </tr>\n",
       "    <tr>\n",
       "      <th>25%</th>\n",
       "      <td>24.500000</td>\n",
       "    </tr>\n",
       "    <tr>\n",
       "      <th>50%</th>\n",
       "      <td>43.500000</td>\n",
       "    </tr>\n",
       "    <tr>\n",
       "      <th>75%</th>\n",
       "      <td>127.000000</td>\n",
       "    </tr>\n",
       "    <tr>\n",
       "      <th>max</th>\n",
       "      <td>20000.000000</td>\n",
       "    </tr>\n",
       "  </tbody>\n",
       "</table>\n",
       "</div>"
      ],
      "text/plain": [
       "             Amount\n",
       "count   1127.000000\n",
       "mean     381.167285\n",
       "std     1563.120253\n",
       "min        2.000000\n",
       "25%       24.500000\n",
       "50%       43.500000\n",
       "75%      127.000000\n",
       "max    20000.000000"
      ]
     },
     "execution_count": 48,
     "metadata": {},
     "output_type": "execute_result"
    }
   ],
   "source": [
    "expense.describe()"
   ]
  },
  {
   "cell_type": "code",
   "execution_count": 49,
   "metadata": {
    "collapsed": false
   },
   "outputs": [
    {
     "data": {
      "text/html": [
       "<div>\n",
       "<table border=\"1\" class=\"dataframe\">\n",
       "  <thead>\n",
       "    <tr style=\"text-align: right;\">\n",
       "      <th></th>\n",
       "      <th>Date</th>\n",
       "      <th>Category</th>\n",
       "      <th>Item</th>\n",
       "      <th>Amount</th>\n",
       "      <th>Regular</th>\n",
       "      <th>Remark</th>\n",
       "      <th>mth</th>\n",
       "    </tr>\n",
       "  </thead>\n",
       "  <tbody>\n",
       "    <tr>\n",
       "      <th>9</th>\n",
       "      <td>2015-07-26</td>\n",
       "      <td>Jinny</td>\n",
       "      <td>奶粉</td>\n",
       "      <td>299</td>\n",
       "      <td>Y</td>\n",
       "      <td>NaN</td>\n",
       "      <td>2015-07</td>\n",
       "    </tr>\n",
       "    <tr>\n",
       "      <th>62</th>\n",
       "      <td>2015-08-06</td>\n",
       "      <td>Jinny</td>\n",
       "      <td>奶粉</td>\n",
       "      <td>299</td>\n",
       "      <td>Y</td>\n",
       "      <td>NaN</td>\n",
       "      <td>2015-08</td>\n",
       "    </tr>\n",
       "    <tr>\n",
       "      <th>68</th>\n",
       "      <td>2015-08-07</td>\n",
       "      <td>Jinny</td>\n",
       "      <td>尿片</td>\n",
       "      <td>1300</td>\n",
       "      <td>Y</td>\n",
       "      <td>and 洗奶樽 / 思思樂</td>\n",
       "      <td>2015-08</td>\n",
       "    </tr>\n",
       "    <tr>\n",
       "      <th>69</th>\n",
       "      <td>2015-08-07</td>\n",
       "      <td>Jinny</td>\n",
       "      <td>奶樽</td>\n",
       "      <td>178</td>\n",
       "      <td>N</td>\n",
       "      <td>Doctor Brown x 2</td>\n",
       "      <td>2015-08</td>\n",
       "    </tr>\n",
       "    <tr>\n",
       "      <th>70</th>\n",
       "      <td>2015-08-07</td>\n",
       "      <td>Jinny</td>\n",
       "      <td>鞋</td>\n",
       "      <td>92</td>\n",
       "      <td>N</td>\n",
       "      <td>Hello Kitty</td>\n",
       "      <td>2015-08</td>\n",
       "    </tr>\n",
       "    <tr>\n",
       "      <th>71</th>\n",
       "      <td>2015-08-07</td>\n",
       "      <td>Jinny</td>\n",
       "      <td>Cook book</td>\n",
       "      <td>98</td>\n",
       "      <td>N</td>\n",
       "      <td>Hilda</td>\n",
       "      <td>2015-08</td>\n",
       "    </tr>\n",
       "    <tr>\n",
       "      <th>88</th>\n",
       "      <td>2015-08-10</td>\n",
       "      <td>Jinny</td>\n",
       "      <td>奶樽</td>\n",
       "      <td>190</td>\n",
       "      <td>N</td>\n",
       "      <td>David helped</td>\n",
       "      <td>2015-08</td>\n",
       "    </tr>\n",
       "    <tr>\n",
       "      <th>145</th>\n",
       "      <td>2015-08-19</td>\n",
       "      <td>Jinny</td>\n",
       "      <td>百日宴</td>\n",
       "      <td>1800</td>\n",
       "      <td>N</td>\n",
       "      <td>訂</td>\n",
       "      <td>2015-08</td>\n",
       "    </tr>\n",
       "    <tr>\n",
       "      <th>155</th>\n",
       "      <td>2015-08-22</td>\n",
       "      <td>Jinny</td>\n",
       "      <td>Clothes</td>\n",
       "      <td>591</td>\n",
       "      <td>Y</td>\n",
       "      <td>Chickeduck</td>\n",
       "      <td>2015-08</td>\n",
       "    </tr>\n",
       "    <tr>\n",
       "      <th>159</th>\n",
       "      <td>2015-08-23</td>\n",
       "      <td>Jinny</td>\n",
       "      <td>奶粉</td>\n",
       "      <td>299</td>\n",
       "      <td>Y</td>\n",
       "      <td>NaN</td>\n",
       "      <td>2015-08</td>\n",
       "    </tr>\n",
       "  </tbody>\n",
       "</table>\n",
       "</div>"
      ],
      "text/plain": [
       "          Date Category       Item  Amount Regular            Remark      mth\n",
       "9   2015-07-26    Jinny         奶粉     299       Y               NaN  2015-07\n",
       "62  2015-08-06    Jinny         奶粉     299       Y               NaN  2015-08\n",
       "68  2015-08-07    Jinny         尿片    1300       Y     and 洗奶樽 / 思思樂  2015-08\n",
       "69  2015-08-07    Jinny         奶樽     178       N  Doctor Brown x 2  2015-08\n",
       "70  2015-08-07    Jinny          鞋      92       N       Hello Kitty  2015-08\n",
       "71  2015-08-07    Jinny  Cook book      98       N             Hilda  2015-08\n",
       "88  2015-08-10    Jinny         奶樽     190       N      David helped  2015-08\n",
       "145 2015-08-19    Jinny        百日宴    1800       N                 訂  2015-08\n",
       "155 2015-08-22    Jinny    Clothes     591       Y        Chickeduck  2015-08\n",
       "159 2015-08-23    Jinny         奶粉     299       Y               NaN  2015-08"
      ]
     },
     "execution_count": 49,
     "metadata": {},
     "output_type": "execute_result"
    }
   ],
   "source": [
    "expense[expense.Category == 'Jinny'].head(10)"
   ]
  },
  {
   "cell_type": "code",
   "execution_count": 50,
   "metadata": {
    "collapsed": false
   },
   "outputs": [
    {
     "data": {
      "text/html": [
       "<div>\n",
       "<table border=\"1\" class=\"dataframe\">\n",
       "  <thead>\n",
       "    <tr style=\"text-align: right;\">\n",
       "      <th></th>\n",
       "      <th>Date</th>\n",
       "      <th>Category</th>\n",
       "      <th>Item</th>\n",
       "      <th>Amount</th>\n",
       "      <th>Regular</th>\n",
       "      <th>Remark</th>\n",
       "      <th>mth</th>\n",
       "    </tr>\n",
       "  </thead>\n",
       "  <tbody>\n",
       "    <tr>\n",
       "      <th>912</th>\n",
       "      <td>2016-01-01</td>\n",
       "      <td>Bill</td>\n",
       "      <td>Meifoo</td>\n",
       "      <td>1096.0</td>\n",
       "      <td>Y</td>\n",
       "      <td>NaN</td>\n",
       "      <td>2016-01</td>\n",
       "    </tr>\n",
       "    <tr>\n",
       "      <th>921</th>\n",
       "      <td>2016-01-01</td>\n",
       "      <td>Cook</td>\n",
       "      <td>買餸</td>\n",
       "      <td>14.9</td>\n",
       "      <td>Y</td>\n",
       "      <td>ParkNShop</td>\n",
       "      <td>2016-01</td>\n",
       "    </tr>\n",
       "    <tr>\n",
       "      <th>922</th>\n",
       "      <td>2016-01-01</td>\n",
       "      <td>Meal</td>\n",
       "      <td>Lunch</td>\n",
       "      <td>124.0</td>\n",
       "      <td>Y</td>\n",
       "      <td>NaN</td>\n",
       "      <td>2016-01</td>\n",
       "    </tr>\n",
       "    <tr>\n",
       "      <th>923</th>\n",
       "      <td>2016-01-01</td>\n",
       "      <td>Misc</td>\n",
       "      <td>Bakery</td>\n",
       "      <td>148.0</td>\n",
       "      <td>Y</td>\n",
       "      <td>NaN</td>\n",
       "      <td>2016-01</td>\n",
       "    </tr>\n",
       "    <tr>\n",
       "      <th>924</th>\n",
       "      <td>2016-01-02</td>\n",
       "      <td>Jinny</td>\n",
       "      <td>奶粉</td>\n",
       "      <td>22.0</td>\n",
       "      <td>N</td>\n",
       "      <td>順豐</td>\n",
       "      <td>2016-01</td>\n",
       "    </tr>\n",
       "    <tr>\n",
       "      <th>925</th>\n",
       "      <td>2016-01-02</td>\n",
       "      <td>Cook</td>\n",
       "      <td>Drink</td>\n",
       "      <td>11.5</td>\n",
       "      <td>Y</td>\n",
       "      <td>NaN</td>\n",
       "      <td>2016-01</td>\n",
       "    </tr>\n",
       "    <tr>\n",
       "      <th>926</th>\n",
       "      <td>2016-01-02</td>\n",
       "      <td>Meal</td>\n",
       "      <td>Dinner</td>\n",
       "      <td>124.0</td>\n",
       "      <td>Y</td>\n",
       "      <td>太興</td>\n",
       "      <td>2016-01</td>\n",
       "    </tr>\n",
       "    <tr>\n",
       "      <th>927</th>\n",
       "      <td>2016-01-02</td>\n",
       "      <td>DanSan</td>\n",
       "      <td>拖鞋</td>\n",
       "      <td>14.9</td>\n",
       "      <td>N</td>\n",
       "      <td>日本城</td>\n",
       "      <td>2016-01</td>\n",
       "    </tr>\n",
       "    <tr>\n",
       "      <th>928</th>\n",
       "      <td>2016-01-03</td>\n",
       "      <td>Drive</td>\n",
       "      <td>Toll</td>\n",
       "      <td>40.0</td>\n",
       "      <td>Y</td>\n",
       "      <td>紅隧</td>\n",
       "      <td>2016-01</td>\n",
       "    </tr>\n",
       "    <tr>\n",
       "      <th>929</th>\n",
       "      <td>2016-01-03</td>\n",
       "      <td>Meal</td>\n",
       "      <td>Lunch</td>\n",
       "      <td>195.0</td>\n",
       "      <td>Y</td>\n",
       "      <td>太平街</td>\n",
       "      <td>2016-01</td>\n",
       "    </tr>\n",
       "  </tbody>\n",
       "</table>\n",
       "</div>"
      ],
      "text/plain": [
       "          Date Category    Item  Amount Regular     Remark      mth\n",
       "912 2016-01-01     Bill  Meifoo  1096.0       Y        NaN  2016-01\n",
       "921 2016-01-01     Cook      買餸    14.9       Y  ParkNShop  2016-01\n",
       "922 2016-01-01     Meal   Lunch   124.0       Y        NaN  2016-01\n",
       "923 2016-01-01     Misc  Bakery   148.0       Y        NaN  2016-01\n",
       "924 2016-01-02    Jinny      奶粉    22.0       N         順豐  2016-01\n",
       "925 2016-01-02     Cook   Drink    11.5       Y        NaN  2016-01\n",
       "926 2016-01-02     Meal  Dinner   124.0       Y         太興  2016-01\n",
       "927 2016-01-02   DanSan      拖鞋    14.9       N        日本城  2016-01\n",
       "928 2016-01-03    Drive    Toll    40.0       Y         紅隧  2016-01\n",
       "929 2016-01-03     Meal   Lunch   195.0       Y        太平街  2016-01"
      ]
     },
     "execution_count": 50,
     "metadata": {},
     "output_type": "execute_result"
    }
   ],
   "source": [
    "expense[(expense.Date >= '2016-01-01') & (expense.Date < '2016-02-01')].head(10)"
   ]
  },
  {
   "cell_type": "code",
   "execution_count": 53,
   "metadata": {
    "collapsed": false
   },
   "outputs": [
    {
     "data": {
      "text/html": [
       "<div>\n",
       "<table border=\"1\" class=\"dataframe\">\n",
       "  <thead>\n",
       "    <tr style=\"text-align: right;\">\n",
       "      <th></th>\n",
       "      <th>Amount</th>\n",
       "    </tr>\n",
       "    <tr>\n",
       "      <th>Category</th>\n",
       "      <th></th>\n",
       "    </tr>\n",
       "  </thead>\n",
       "  <tbody>\n",
       "    <tr>\n",
       "      <th>Bill</th>\n",
       "      <td>14431.00</td>\n",
       "    </tr>\n",
       "    <tr>\n",
       "      <th>Cook</th>\n",
       "      <td>3348.80</td>\n",
       "    </tr>\n",
       "    <tr>\n",
       "      <th>DanSan</th>\n",
       "      <td>14.90</td>\n",
       "    </tr>\n",
       "    <tr>\n",
       "      <th>Domestic</th>\n",
       "      <td>13880.24</td>\n",
       "    </tr>\n",
       "    <tr>\n",
       "      <th>Drive</th>\n",
       "      <td>659.00</td>\n",
       "    </tr>\n",
       "    <tr>\n",
       "      <th>Jinny</th>\n",
       "      <td>2225.00</td>\n",
       "    </tr>\n",
       "    <tr>\n",
       "      <th>Leisure</th>\n",
       "      <td>144.00</td>\n",
       "    </tr>\n",
       "    <tr>\n",
       "      <th>Meal</th>\n",
       "      <td>5699.50</td>\n",
       "    </tr>\n",
       "    <tr>\n",
       "      <th>Misc</th>\n",
       "      <td>2307.30</td>\n",
       "    </tr>\n",
       "    <tr>\n",
       "      <th>Mortgage</th>\n",
       "      <td>14288.00</td>\n",
       "    </tr>\n",
       "    <tr>\n",
       "      <th>Transport</th>\n",
       "      <td>929.40</td>\n",
       "    </tr>\n",
       "  </tbody>\n",
       "</table>\n",
       "</div>"
      ],
      "text/plain": [
       "             Amount\n",
       "Category           \n",
       "Bill       14431.00\n",
       "Cook        3348.80\n",
       "DanSan        14.90\n",
       "Domestic   13880.24\n",
       "Drive        659.00\n",
       "Jinny       2225.00\n",
       "Leisure      144.00\n",
       "Meal        5699.50\n",
       "Misc        2307.30\n",
       "Mortgage   14288.00\n",
       "Transport    929.40"
      ]
     },
     "execution_count": 53,
     "metadata": {},
     "output_type": "execute_result"
    }
   ],
   "source": [
    "expense[(expense.Date >= '2016-01-01') & (expense.Date < '2016-02-01')].groupby(['Category']).sum()"
   ]
  },
  {
   "cell_type": "code",
   "execution_count": 63,
   "metadata": {
    "collapsed": false
   },
   "outputs": [
    {
     "data": {
      "text/plain": [
       "<matplotlib.axes._subplots.AxesSubplot at 0x6104dd0>"
      ]
     },
     "execution_count": 63,
     "metadata": {},
     "output_type": "execute_result"
    },
    {
     "data": {
      "image/png": "[encoded data removed]",
      "text/plain": [
       "<matplotlib.figure.Figure at 0x610eaf0>"
      ]
     },
     "metadata": {},
     "output_type": "display_data"
    }
   ],
   "source": [
    "expense[(expense.Date >= '2016-01-01') & (expense.Date < '2016-02-01')].groupby(['Category']).sum().plot(\n",
    "    kind='pie', \n",
    "    y='Amount', \n",
    "    autopct='%.2f',\n",
    "    figsize=(6, 6))"
   ]
  },
  {
   "cell_type": "code",
   "execution_count": 35,
   "metadata": {
    "collapsed": false
   },
   "outputs": [
    {
     "data": {
      "text/html": [
       "<div>\n",
       "<table border=\"1\" class=\"dataframe\">\n",
       "  <thead>\n",
       "    <tr style=\"text-align: right;\">\n",
       "      <th></th>\n",
       "      <th>Amount</th>\n",
       "    </tr>\n",
       "    <tr>\n",
       "      <th>mth</th>\n",
       "      <th></th>\n",
       "    </tr>\n",
       "  </thead>\n",
       "  <tbody>\n",
       "    <tr>\n",
       "      <th>2015-07</th>\n",
       "      <td>28625.10</td>\n",
       "    </tr>\n",
       "    <tr>\n",
       "      <th>2015-08</th>\n",
       "      <td>72285.00</td>\n",
       "    </tr>\n",
       "    <tr>\n",
       "      <th>2015-09</th>\n",
       "      <td>63710.40</td>\n",
       "    </tr>\n",
       "    <tr>\n",
       "      <th>2015-10</th>\n",
       "      <td>90043.79</td>\n",
       "    </tr>\n",
       "    <tr>\n",
       "      <th>2015-11</th>\n",
       "      <td>56029.50</td>\n",
       "    </tr>\n",
       "    <tr>\n",
       "      <th>2015-12</th>\n",
       "      <td>59012.60</td>\n",
       "    </tr>\n",
       "    <tr>\n",
       "      <th>2016-01</th>\n",
       "      <td>57927.14</td>\n",
       "    </tr>\n",
       "    <tr>\n",
       "      <th>2016-02</th>\n",
       "      <td>1942.00</td>\n",
       "    </tr>\n",
       "  </tbody>\n",
       "</table>\n",
       "</div>"
      ],
      "text/plain": [
       "           Amount\n",
       "mth              \n",
       "2015-07  28625.10\n",
       "2015-08  72285.00\n",
       "2015-09  63710.40\n",
       "2015-10  90043.79\n",
       "2015-11  56029.50\n",
       "2015-12  59012.60\n",
       "2016-01  57927.14\n",
       "2016-02   1942.00"
      ]
     },
     "execution_count": 35,
     "metadata": {},
     "output_type": "execute_result"
    }
   ],
   "source": [
    "expense.groupby('mth').sum()"
   ]
  },
  {
   "cell_type": "code",
   "execution_count": 64,
   "metadata": {
    "collapsed": false
   },
   "outputs": [
    {
     "data": {
      "text/plain": [
       "<matplotlib.axes._subplots.AxesSubplot at 0x610ef10>"
      ]
     },
     "execution_count": 64,
     "metadata": {},
     "output_type": "execute_result"
    },
    {
     "data": {
      "image/png": "[encoded data removed]",
      "text/plain": [
       "<matplotlib.figure.Figure at 0x5cca0b0>"
      ]
     },
     "metadata": {},
     "output_type": "display_data"
    }
   ],
   "source": [
    "expense.groupby('mth').sum().plot(kind='bar')"
   ]
  },
  {
   "cell_type": "code",
   "execution_count": 36,
   "metadata": {
    "collapsed": false
   },
   "outputs": [
    {
     "data": {
      "text/html": [
       "<div>\n",
       "<table border=\"1\" class=\"dataframe\">\n",
       "  <thead>\n",
       "    <tr style=\"text-align: right;\">\n",
       "      <th></th>\n",
       "      <th>Amount</th>\n",
       "    </tr>\n",
       "    <tr>\n",
       "      <th>mth</th>\n",
       "      <th></th>\n",
       "    </tr>\n",
       "  </thead>\n",
       "  <tbody>\n",
       "    <tr>\n",
       "      <th>2015-07</th>\n",
       "      <td>27957.50</td>\n",
       "    </tr>\n",
       "    <tr>\n",
       "      <th>2015-08</th>\n",
       "      <td>41076.00</td>\n",
       "    </tr>\n",
       "    <tr>\n",
       "      <th>2015-09</th>\n",
       "      <td>43678.00</td>\n",
       "    </tr>\n",
       "    <tr>\n",
       "      <th>2015-10</th>\n",
       "      <td>50851.89</td>\n",
       "    </tr>\n",
       "    <tr>\n",
       "      <th>2015-11</th>\n",
       "      <td>43647.40</td>\n",
       "    </tr>\n",
       "    <tr>\n",
       "      <th>2015-12</th>\n",
       "      <td>52850.30</td>\n",
       "    </tr>\n",
       "    <tr>\n",
       "      <th>2016-01</th>\n",
       "      <td>45315.14</td>\n",
       "    </tr>\n",
       "    <tr>\n",
       "      <th>2016-02</th>\n",
       "      <td>1942.00</td>\n",
       "    </tr>\n",
       "  </tbody>\n",
       "</table>\n",
       "</div>"
      ],
      "text/plain": [
       "           Amount\n",
       "mth              \n",
       "2015-07  27957.50\n",
       "2015-08  41076.00\n",
       "2015-09  43678.00\n",
       "2015-10  50851.89\n",
       "2015-11  43647.40\n",
       "2015-12  52850.30\n",
       "2016-01  45315.14\n",
       "2016-02   1942.00"
      ]
     },
     "execution_count": 36,
     "metadata": {},
     "output_type": "execute_result"
    }
   ],
   "source": [
    "expense[expense.Regular == 'Y'].groupby('mth').sum()"
   ]
  },
  {
   "cell_type": "code",
   "execution_count": 42,
   "metadata": {
    "collapsed": false
   },
   "outputs": [
    {
     "data": {
      "text/plain": [
       "<matplotlib.axes._subplots.AxesSubplot at 0x53bca90>"
      ]
     },
     "execution_count": 42,
     "metadata": {},
     "output_type": "execute_result"
    },
    {
     "data": {
      "image/png": "[encoded data removed]",
      "text/plain": [
       "<matplotlib.figure.Figure at 0x4e88490>"
      ]
     },
     "metadata": {},
     "output_type": "display_data"
    }
   ],
   "source": [
    "expense[expense.Regular == 'Y'].groupby('mth').sum().plot(kind='bar')"
   ]
  },
  {
   "cell_type": "code",
   "execution_count": 37,
   "metadata": {
    "collapsed": false
   },
   "outputs": [
    {
     "data": {
      "text/plain": [
       "Amount    53696.94125\n",
       "dtype: float64"
      ]
     },
     "execution_count": 37,
     "metadata": {},
     "output_type": "execute_result"
    }
   ],
   "source": [
    "expense.groupby('mth').sum().mean()"
   ]
  },
  {
   "cell_type": "code",
   "execution_count": 45,
   "metadata": {
    "collapsed": false
   },
   "outputs": [
    {
     "data": {
      "text/plain": [
       "<matplotlib.axes._subplots.AxesSubplot at 0x5503830>"
      ]
     },
     "execution_count": 45,
     "metadata": {},
     "output_type": "execute_result"
    },
    {
     "data": {
      "image/png": "[encoded data removed]",
      "text/plain": [
       "<matplotlib.figure.Figure at 0x547ccb0>"
      ]
     },
     "metadata": {},
     "output_type": "display_data"
    }
   ],
   "source": [
    "expense.groupby(['mth', 'Regular']).sum().plot(kind='bar')"
   ]
  },
  {
   "cell_type": "code",
   "execution_count": 41,
   "metadata": {
    "collapsed": false
   },
   "outputs": [],
   "source": [
    "# expense.groupby([lambda x : x.year.__str__() + '-' + x.month.__str__(), 'Category']).sum()"
   ]
  }
 ],
 "metadata": {
  "kernelspec": {
   "display_name": "Python 2",
   "language": "python",
   "name": "python2"
  },
  "language_info": {
   "codemirror_mode": {
    "name": "ipython",
    "version": 2
   },
   "file_extension": ".py",
   "mimetype": "text/x-python",
   "name": "python",
   "nbconvert_exporter": "python",
   "pygments_lexer": "ipython2",
   "version": "2.7.10"
  }
 },
 "nbformat": 4,
 "nbformat_minor": 0
}
